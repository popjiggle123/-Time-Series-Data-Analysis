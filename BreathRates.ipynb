{
  "cells": [
    {
      "cell_type": "code",
      "execution_count": null,
      "metadata": {
        "id": "5d5AprGFGEem"
      },
      "outputs": [],
      "source": [
        "import torch\n",
        "import torch.nn as nn\n",
        "import numpy as np\n",
        "import pandas as pd\n",
        "from sklearn.model_selection import KFold, train_test_split\n",
        "import matplotlib.pyplot as plt"
      ]
    },
    {
      "cell_type": "code",
      "execution_count": null,
      "metadata": {
        "id": "KtdhuvOgGMV9"
      },
      "outputs": [],
      "source": [
        "from google.colab import drive\n",
        "drive.mount('/content/drive')"
      ]
    },
    {
      "cell_type": "code",
      "execution_count": null,
      "metadata": {
        "id": "-l7hYViZGie0"
      },
      "outputs": [],
      "source": [
        "data = pd.read_csv('/content/drive/MyDrive/hackathon/ground_truth/Subject39_1526417507/1526417507.csv', header = None)\n",
        "data = data.T\n",
        "data2 = pd.read_csv('/content/drive/MyDrive/hackathon/ground_truth/Subject39_1526591202/1526591202.csv', header = None)\n",
        "data2 = data2.T\n",
        "data3 = pd.read_csv('/content/drive/MyDrive/hackathon/ground_truth/Subject42_1527280030/1527280030.csv', header = None)\n",
        "data3 = data3.T\n",
        "data4 = pd.read_csv('/content/drive/MyDrive/hackathon/ground_truth/Subject43_1527806941/1527806941.csv', header = None)\n",
        "data4 = data4.T\n",
        "data5 = pd.read_csv('/content/drive/MyDrive/hackathon/ground_truth/Subject54_1539288817/1539288817.csv', header = None)\n",
        "data5 = data5.T\n",
        "data6 = pd.read_csv('/content/drive/MyDrive/hackathon/ground_truth/Subject55_1539459892/1539459892.csv', header = None)\n",
        "data6 = data6.T\n",
        "traindata = pd.concat([data,data2,data3,data4,data5,data6],ignore_index = True)"
      ]
    },
    {
      "cell_type": "code",
      "execution_count": null,
      "metadata": {
        "id": "Ss0VCxzeLvbB"
      },
      "outputs": [],
      "source": [
        "data = pd.read_csv('/content/drive/MyDrive/hackathon/ground_truth/Subject39_1526417507/breathrates.csv', header = None)\n",
        "data = data.T\n",
        "data = data.drop(0)\n",
        "data2 = pd.read_csv('/content/drive/MyDrive/hackathon/ground_truth/Subject39_1526591202/breathrates.csv', header = None)\n",
        "data2 = data2.T\n",
        "data2 = data2.drop(0)\n",
        "data3 = pd.read_csv('/content/drive/MyDrive/hackathon/ground_truth/Subject42_1527280030/breathrates.csv', header = None)\n",
        "data3 = data3.T\n",
        "data3 = data3.drop(0)\n",
        "data4 = pd.read_csv('/content/drive/MyDrive/hackathon/ground_truth/Subject43_1527806941/breathrates.csv', header = None)\n",
        "data4 = data4.T\n",
        "data4 = data4.drop(0)\n",
        "data5 = pd.read_csv('/content/drive/MyDrive/hackathon/ground_truth/Subject54_1539288817/breathrates.csv', header = None)\n",
        "data5 = data5.T\n",
        "data5 = data5.drop(0)\n",
        "data6 = pd.read_csv('/content/drive/MyDrive/hackathon/ground_truth/Subject55_1539459892/breathrates.csv', header = None)\n",
        "data6 = data6.T\n",
        "data6 = data6.drop(0)\n",
        "target_values = pd.concat([data,data2,data3,data4,data5,data6],ignore_index = True)"
      ]
    },
    {
      "cell_type": "code",
      "execution_count": null,
      "metadata": {
        "id": "CaL8c1xKGqQ3"
      },
      "outputs": [],
      "source": [
        "class LSTM(nn.Module):\n",
        "  def __init__(self):\n",
        "    super(LSTM, self).__init__()\n",
        "    self.lstm = nn.LSTM(input_size = 6780, hidden_size = 512, batch_first = True)\n",
        "    self.linear1 = nn.Linear(512, 64)\n",
        "    self.dropout = nn.Dropout(0.5)\n",
        "    self.linear2 = nn.Linear(64, 1)\n",
        "    self.relu = nn.ReLU()\n",
        "\n",
        "  def forward(self, x):\n",
        "    h_t, c_t = self.lstm(x)\n",
        "    h_t = h_t.squeeze()\n",
        "    res = self.linear1(h_t)\n",
        "    res = self.relu(res)\n",
        "    res = self.dropout(res)\n",
        "    res = self.linear2(res)\n",
        "    res = res.T\n",
        "    return res"
      ]
    },
    {
      "cell_type": "code",
      "execution_count": null,
      "metadata": {
        "id": "Z9dEo_LDHBJf"
      },
      "outputs": [],
      "source": [
        "class BreathRateDataset(torch.utils.data.Dataset):\n",
        "  def __init__(self, train_data, targets = None):\n",
        "    self.train_data = train_data\n",
        "    self.targets = targets\n",
        "\n",
        "  def __len__(self):\n",
        "    return len(self.train_data)\n",
        "  \n",
        "  def __getitem__(self, idx):\n",
        "    try:\n",
        "      train, targ = self.train_data.loc[idx], self.targets.loc[idx]\n",
        "    except:\n",
        "      train, targ = self.train_data.iloc[idx], self.targets.iloc[idx]\n",
        "    train = train.values.reshape((1,len(train)))\n",
        "    targ = targ.values.reshape((1,len(targ)))\n",
        "    train = train.astype(np.float32)\n",
        "    targ = targ.astype(np.float32)\n",
        "    train = torch.tensor(train)\n",
        "    targ = torch.tensor(targ)\n",
        "    train = train.view((1, 8, 6780))\n",
        "    return train, targ"
      ]
    },
    {
      "cell_type": "code",
      "execution_count": null,
      "metadata": {
        "id": "09nvGsjucpdi"
      },
      "outputs": [],
      "source": [
        "train_data, validation_data, train_target, validation_target = train_test_split(traindata, target_values, test_size=1/6, shuffle=True)"
      ]
    },
    {
      "cell_type": "code",
      "execution_count": null,
      "metadata": {
        "id": "73FqvtXvMc0-"
      },
      "outputs": [],
      "source": [
        "train_dataset = BreathRateDataset(train_data, train_target)\n",
        "validation_dataset = BreathRateDataset(validation_data, validation_target)"
      ]
    },
    {
      "cell_type": "code",
      "execution_count": null,
      "metadata": {
        "id": "8KmI6ZXtMhwJ"
      },
      "outputs": [],
      "source": [
        "train_dataloader = torch.utils.data.DataLoader(train_dataset, batch_size = 1)\n",
        "validation_dataloader = torch.utils.data.DataLoader(validation_dataset, batch_size = 1)"
      ]
    },
    {
      "cell_type": "code",
      "execution_count": null,
      "metadata": {
        "id": "BJ9kYclxSeYq"
      },
      "outputs": [],
      "source": [
        "def train(model, lossfn, optimizer, scheduler, device):\n",
        "    model.train()\n",
        "    training_error = 0\n",
        "    for t, (xb, yb) in enumerate(train_dataloader):\n",
        "        xb = xb.to(device, dtype = torch.float32)\n",
        "        yb = yb.to(device, dtype = torch.float32)\n",
        "        xb = xb.squeeze(0)\n",
        "        yb = yb.squeeze()\n",
        "        predictions = model(xb)\n",
        "        predictions = predictions.T\n",
        "        predictions = predictions.to(device, dtype = torch.float32)\n",
        "        #for i in range(8):\n",
        "        #    if yb[i] == -1:\n",
        "        #      predictions[i][0] = -1\n",
        "        loss = lossfn(predictions, yb)\n",
        "        optimizer.zero_grad()\n",
        "        loss.backward()\n",
        "        optimizer.step()\n",
        "        training_error += torch.sqrt(torch.sum(torch.square(predictions.view(8)-yb))/8)\n",
        "        #training_error += torch.sum(torch.square(predictions.view(8) - yb))\n",
        "    print(f\"Training RMSE: {training_error/5}\")\n",
        "    #scheduler.step(loss)\n",
        "    del loss,predictions\n",
        "    return training_error\n",
        "        \n",
        "def validate(model, lossfn, optimizer, scheduler, device):\n",
        "    validation_error = 0\n",
        "    with torch.no_grad():\n",
        "        model.eval()\n",
        "        for v, (xv, yv) in enumerate(validation_dataloader):\n",
        "            xv = xv.to(device, dtype = torch.float32)\n",
        "            yv = yv.to(device, dtype = torch.float32)\n",
        "            xv = xv.squeeze(0)\n",
        "            yv = yv.squeeze()\n",
        "            predictions = model(xv)\n",
        "            predictions = predictions.T\n",
        "            predictions = predictions.to(device, dtype = torch.float32)\n",
        "            loss = lossfn(predictions, yv)\n",
        "            validation_error += torch.sqrt(torch.sum(torch.square(predictions.view(8) - yv))/8)\n",
        "    print(f\"Validation RMSE: {validation_error/1}\")\n",
        "    return validation_error\n"
      ]
    },
    {
      "cell_type": "code",
      "execution_count": null,
      "metadata": {
        "id": "n9YEGIx6mIDz"
      },
      "outputs": [],
      "source": [
        "device = 'cuda' if torch.cuda.is_available() else 'cpu'\n",
        "device"
      ]
    },
    {
      "cell_type": "code",
      "execution_count": null,
      "metadata": {
        "id": "NnbYttcsfQkh"
      },
      "outputs": [],
      "source": [
        "model = LSTM()\n",
        "lossfn = torch.nn.functional.mse_loss\n",
        "optimizer = torch.optim.Adam(model.parameters(), lr = 1e-3)\n",
        "scheduler=None\n",
        "#scheduler = torch.optim.lr_scheduler.ReduceLROnPlateau(optimizer, factor=0.1, patience=7, threshold=1e-2, verbose = True)"
      ]
    },
    {
      "cell_type": "code",
      "execution_count": null,
      "metadata": {
        "id": "qaqSu4wTZrQa"
      },
      "outputs": [],
      "source": [
        "epochs = 10\n",
        "model.to(device)\n",
        "for i in range(epochs):\n",
        "    print(f\"Epoch: {i+1}\")\n",
        "    training_error = train(model, lossfn, optimizer, scheduler, device)\n",
        "    validation_error = validate(model, lossfn, optimizer, scheduler, device)"
      ]
    },
    {
      "cell_type": "code",
      "execution_count": null,
      "metadata": {
        "id": "BzadOMKCCHAo"
      },
      "outputs": [],
      "source": [
        "optimizer = torch.optim.Adam(model.parameters(), lr = 1e-4)\n",
        "for i in range(epochs):\n",
        "    print(f\"Epoch: {i+1}\")\n",
        "    training_error = train(model, lossfn, optimizer, scheduler, device)\n",
        "    validation_error = validate(model, lossfn, optimizer, scheduler, device)"
      ]
    },
    {
      "cell_type": "markdown",
      "metadata": {
        "id": "ZZyl6bEPZqvv"
      },
      "source": [
        ""
      ]
    },
    {
      "cell_type": "code",
      "execution_count": null,
      "metadata": {
        "id": "ehJjldtlTgy2"
      },
      "outputs": [],
      "source": [
        "with torch.no_grad():\n",
        "    model.eval()\n",
        "    for v, (xv, yv) in enumerate(train_dataloader):\n",
        "        xv = xv.to(device, dtype = torch.float32)\n",
        "        yv = yv.to(device, dtype = torch.int64)\n",
        "        xv = xv.squeeze(0)\n",
        "        yv = yv.squeeze()\n",
        "        predictions = model(xv)\n",
        "        predictions = predictions.T\n",
        "        predictions = predictions.to(device, dtype = torch.float32)\n",
        "        print(predictions)\n",
        "        print(yv)"
      ]
    },
    {
      "cell_type": "code",
      "execution_count": null,
      "metadata": {
        "id": "ZPuVigQnUDcW"
      },
      "outputs": [],
      "source": [
        "with torch.no_grad():\n",
        "    model.eval()\n",
        "    for v, (xv, yv) in enumerate(validation_dataloader):\n",
        "        xv = xv.to(device, dtype = torch.float32)\n",
        "        yv = yv.to(device, dtype = torch.int64)\n",
        "        xv = xv.squeeze(0)\n",
        "        yv = yv.squeeze()\n",
        "        predictions = model(xv)\n",
        "        predictions = predictions.T\n",
        "        predictions = predictions.to(device, dtype = torch.float32)\n",
        "        print(predictions)\n",
        "        print(yv)"
      ]
    },
    {
      "cell_type": "code",
      "execution_count": null,
      "metadata": {
        "id": "wkuv1TTnjlQF"
      },
      "outputs": [],
      "source": [
        "predictions[0]"
      ]
    },
    {
      "cell_type": "code",
      "execution_count": null,
      "metadata": {
        "id": "gdG5qh7zjno5"
      },
      "outputs": [],
      "source": [
        "target_values "
      ]
    },
    {
      "cell_type": "code",
      "execution_count": null,
      "metadata": {
        "id": "23IUL5ijEyiO"
      },
      "outputs": [],
      "source": [
        "class TestDataset(torch.utils.data.Dataset):\n",
        "  def __init__(self, train_data, targets = None):\n",
        "    self.train_data = train_data\n",
        "\n",
        "  def __len__(self):\n",
        "    return len(self.train_data)\n",
        "  \n",
        "  def __getitem__(self, idx):\n",
        "    try:\n",
        "      train = self.train_data.loc[idx]\n",
        "    except:\n",
        "      train = self.train_data.iloc[idx]\n",
        "    train = train.values.reshape((1,len(train)))\n",
        "    train = train.astype(np.float32)\n",
        "    train = torch.tensor(train)\n",
        "    train = train.view((1, 8, 6780))\n",
        "    return train"
      ]
    },
    {
      "cell_type": "code",
      "execution_count": null,
      "metadata": {
        "id": "HAnnf0groDz9"
      },
      "outputs": [],
      "source": [
        "import os\n",
        "\n",
        "df = pd.DataFrame()\n",
        "addresses = []\n",
        "for root, dir, files in os.walk('/content/drive/MyDrive/hackathon/dataset'):\n",
        "  if files == []:\n",
        "    pass\n",
        "  else:\n",
        "    path = os.path.join(root, files[0])\n",
        "    data = pd.read_csv(path, header = None)\n",
        "    addresses.append(root)    \n",
        "    data = data.T\n",
        "    df = pd.concat([df,data], ignore_index = True)"
      ]
    },
    {
      "cell_type": "code",
      "execution_count": null,
      "metadata": {
        "id": "Y-EFm6tRGeqy"
      },
      "outputs": [],
      "source": [
        "test_dataset = TestDataset(df)\n",
        "test_dataloader = torch.utils.data.DataLoader(test_dataset, batch_size = 1, shuffle = True)"
      ]
    },
    {
      "cell_type": "code",
      "execution_count": null,
      "metadata": {
        "id": "u6RvrLceGk_c"
      },
      "outputs": [],
      "source": [
        "with torch.no_grad():\n",
        "        model.eval()\n",
        "        for v, xv in enumerate(test_dataloader):\n",
        "          xv = xv.to(device, dtype = torch.float32)\n",
        "          xv = xv.squeeze(0)\n",
        "          predictions = model(xv).view(8)\n",
        "          predictions = predictions.detach().cpu().numpy()\n",
        "          predictions = np.round(predictions, 2)\n",
        "          path = addresses[v]\n",
        "          time = int(path[-10:])\n",
        "          timestamps = np.arange(time, time+240, 30)\n",
        "          predictionsdf = pd.DataFrame([timestamps,predictions])\n",
        "          predictionsdf = predictionsdf.transpose()\n",
        "\n",
        "          submission = predictionsdf.to_csv(os.path.join(path,'breathrates.csv'), index = False, header = None)\n"
      ]
    },
    {
      "cell_type": "code",
      "execution_count": null,
      "metadata": {
        "id": "EMxFEMYrG8b2"
      },
      "outputs": [],
      "source": [
        "predictionsdf"
      ]
    },
    {
      "cell_type": "code",
      "execution_count": null,
      "metadata": {
        "id": "4ahvU9N5HU1G"
      },
      "outputs": [],
      "source": [
        ""
      ]
    }
  ],
  "metadata": {
    "accelerator": "GPU",
    "colab": {
      "name": "IIT-I BreathRate",
      "provenance": []
    },
    "kernelspec": {
      "display_name": "Python 3",
      "name": "python3"
    },
    "language_info": {
      "name": "python"
    }
  },
  "nbformat": 4,
  "nbformat_minor": 0
}