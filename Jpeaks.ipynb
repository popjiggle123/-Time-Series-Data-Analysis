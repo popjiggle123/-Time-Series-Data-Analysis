{
  "nbformat": 4,
  "nbformat_minor": 0,
  "metadata": {
    "colab": {
      "name": "Jpeaks.ipynb",
      "provenance": [],
      "collapsed_sections": []
    },
    "kernelspec": {
      "name": "python3",
      "display_name": "Python 3"
    },
    "language_info": {
      "name": "python"
    },
    "accelerator": "GPU"
  },
  "cells": [
    {
      "cell_type": "code",
      "execution_count": null,
      "metadata": {
        "id": "NSVPEJkVWrwl"
      },
      "outputs": [],
      "source": [
        "import torch\n",
        "import torch.nn as nn\n",
        "import numpy as np\n",
        "import pandas as pd\n",
        "from sklearn.model_selection import KFold, train_test_split\n",
        "import matplotlib.pyplot as plt\n",
        "import torch\n",
        "import torch.nn as nn\n",
        "import torch.nn.functional as F\n",
        "import torch.optim as optim\n",
        "from torch.utils.data import Dataset,DataLoader\n",
        "from torch.autograd import Variable"
      ]
    },
    {
      "cell_type": "code",
      "source": [
        "\n",
        "from google.colab import drive\n",
        "drive.mount('/content/drive')"
      ],
      "metadata": {
        "id": "d1PPaV7k_P_0",
        "colab": {
          "base_uri": "https://localhost:8080/"
        },
        "outputId": "da7e4b3f-a481-4a17-c43a-fd1dc019b929"
      },
      "execution_count": null,
      "outputs": [
        {
          "output_type": "stream",
          "name": "stdout",
          "text": [
            "Drive already mounted at /content/drive; to attempt to forcibly remount, call drive.mount(\"/content/drive\", force_remount=True).\n"
          ]
        }
      ]
    },
    {
      "cell_type": "markdown",
      "source": [
        "/content/drive/Shareddrives"
      ],
      "metadata": {
        "id": "Pmv3gmZxF-6X"
      }
    },
    {
      "cell_type": "code",
      "source": [
        "data = pd.read_csv('/content/drive/MyDrive/hackathon/ground_truth/Subject39_1526417507/1526417507.csv', header = None)\n",
        "data = data.T\n",
        "print(data.shape)\n",
        "data2 = pd.read_csv('/content/drive/MyDrive/hackathon/ground_truth/Subject39_1526591202/1526591202.csv', header = None)\n",
        "data2 = data2.T\n",
        "data3 = pd.read_csv('/content/drive/MyDrive/hackathon/ground_truth/Subject42_1527280030/1527280030.csv', header = None)\n",
        "data3 = data3.T\n",
        "data4 = pd.read_csv('/content/drive/MyDrive/hackathon/ground_truth/Subject43_1527806941/1527806941.csv', header = None)\n",
        "data4 = data4.T\n",
        "data5 = pd.read_csv('/content/drive/MyDrive/hackathon/ground_truth/Subject54_1539288817/1539288817.csv', header = None)\n",
        "data5 = data5.T\n",
        "data6 = pd.read_csv('/content/drive/MyDrive/hackathon/ground_truth/Subject55_1539459892/1539459892.csv', header = None)\n",
        "data6 = data6.T\n",
        "train_data1 = pd.concat([data,data2,data3,data4,data5,data6],ignore_index = True)\n",
        "train_data1 = train_data1.to_numpy()\n",
        "train_data1.shape"
      ],
      "metadata": {
        "id": "YEBFmZapXSKV",
        "colab": {
          "base_uri": "https://localhost:8080/"
        },
        "outputId": "3c305d3a-a171-47a6-f182-fa878256b851"
      },
      "execution_count": null,
      "outputs": [
        {
          "output_type": "stream",
          "name": "stdout",
          "text": [
            "(1, 54240)\n"
          ]
        },
        {
          "output_type": "execute_result",
          "data": {
            "text/plain": [
              "(6, 54240)"
            ]
          },
          "metadata": {},
          "execution_count": 87
        }
      ]
    },
    {
      "cell_type": "code",
      "source": [
        "dataset=[]"
      ],
      "metadata": {
        "id": "esiS-4fMmxMZ"
      },
      "execution_count": null,
      "outputs": []
    },
    {
      "cell_type": "code",
      "source": [
        "data = pd.read_csv('/content/drive/MyDrive/hackathon/ground_truth/Subject39_1526417507/jpeaks.csv', header = None)\n",
        "data-= 1526417507\n",
        "#data = data.T\n",
        "dataset.append(data*226)\n",
        "data2 = pd.read_csv('/content/drive/MyDrive/hackathon/ground_truth/Subject39_1526591202/jpeaks.csv', header = None)\n",
        "data2-=1526591202\n",
        "#data2 = data2.T\n",
        "dataset.append(data2*226)\n",
        "data3 = pd.read_csv('/content/drive/MyDrive/hackathon/ground_truth/Subject42_1527280030/jpeaks.csv', header = None)\n",
        "data3-=1527280030\n",
        "#data3 = data3.T\n",
        "dataset.append(data3*226)\n",
        "data4 = pd.read_csv('/content/drive/MyDrive/hackathon/ground_truth/Subject43_1527806941/jpeaks.csv', header = None)\n",
        "data4-=1527806941\n",
        "#data4 = data4.T\n",
        "dataset.append(data4*226)\n",
        "data5 = pd.read_csv('/content/drive/MyDrive/hackathon/ground_truth/Subject54_1539288817/jpeaks.csv', header = None)\n",
        "data5-=1539288817\n",
        "#data5 = data5.T\n",
        "dataset.append(data5*226)\n",
        "data6 = pd.read_csv('/content/drive/MyDrive/hackathon/ground_truth/Subject55_1539459892/jpeaks.csv', header = None)\n",
        "data6-=1539459892\n",
        "#data6 = data6.T\n",
        "dataset.append(data6*226)\n",
        "#target_values = pd.concat([data,data2,data3,data4,data5,data6],ignore_index = True)\n",
        "print(len(dataset))"
      ],
      "metadata": {
        "id": "YxeuncyBbq5O",
        "colab": {
          "base_uri": "https://localhost:8080/"
        },
        "outputId": "f742f284-25a5-4535-9ce8-5aa26c2eec14"
      },
      "execution_count": null,
      "outputs": [
        {
          "output_type": "stream",
          "name": "stdout",
          "text": [
            "6\n"
          ]
        }
      ]
    },
    {
      "cell_type": "code",
      "source": [
        "olabels = np.zeros((6,54240),dtype = 'int64')\n",
        "for j in range(6):\n",
        "  for i in range(dataset[j].shape[0]):\n",
        "    olabels[j,round(dataset[j][0][i])] = 1\n",
        "\n"
      ],
      "metadata": {
        "id": "v1KTeNFq37BO"
      },
      "execution_count": null,
      "outputs": []
    },
    {
      "cell_type": "code",
      "source": [
        "import os"
      ],
      "metadata": {
        "id": "MAUzkcM9FSRp"
      },
      "execution_count": null,
      "outputs": []
    },
    {
      "cell_type": "code",
      "source": [
        "df = pd.DataFrame()\n",
        "addresses = []\n",
        "for root, dir, files in os.walk('/content/drive/MyDrive/hackathon/dataset'):\n",
        "  if files == []:\n",
        "    pass\n",
        "  else:\n",
        "    path = os.path.join(root, files[0])\n",
        "    data = pd.read_csv(path, header = None)\n",
        "    addresses.append(root)    \n",
        "    data = data.T\n",
        "    df = pd.concat([df,data], ignore_index = True)"
      ],
      "metadata": {
        "id": "hs-mj9HyNinh"
      },
      "execution_count": null,
      "outputs": []
    },
    {
      "cell_type": "code",
      "source": [
        "test_data = df.to_numpy()"
      ],
      "metadata": {
        "id": "_Ah7hzfkvTTl"
      },
      "execution_count": null,
      "outputs": []
    },
    {
      "cell_type": "code",
      "source": [
        "preds = np.zeros((55,60))"
      ],
      "metadata": {
        "id": "08j2gqYvueqz"
      },
      "execution_count": null,
      "outputs": []
    },
    {
      "cell_type": "code",
      "source": [
        "for i in range(55):\n",
        "  step = 904\n",
        "  for j in range(60):\n",
        "    slice_t = test_data[i, j*step : (j+1)*step]\n",
        "    preds[i,j] = np.argmax(slice_t) + j*step\n",
        "\n",
        "\n"
      ],
      "metadata": {
        "id": "UYNoatNEuqts"
      },
      "execution_count": null,
      "outputs": []
    },
    {
      "cell_type": "code",
      "source": [
        "def convert_to_timestamps(predictions, initial_timestamp):\n",
        "  timestamps = []\n",
        "\n",
        "  \n",
        "  for i in predictions:\n",
        "    sec = (i+1)/226\n",
        "    current_timestamp = float(initial_timestamp) + sec\n",
        "    timestamps.append(str(current_timestamp))\n",
        "  return timestamps"
      ],
      "metadata": {
        "id": "UJWUg487v-r6"
      },
      "execution_count": null,
      "outputs": []
    },
    {
      "cell_type": "code",
      "source": [
        "for i in range(55):\n",
        "  pred = convert_to_timestamps(preds[i],addresses[i][-10:])\n",
        "\n",
        "\n",
        "  pred_df = pd.DataFrame(pred)\n",
        "  pred_df = pred_df.iloc[:,0].astype('object')\n",
        "  path = addresses[i]\n",
        " \n",
        "  submission = pred_df.to_csv(os.path.join(path,'jpeaks.csv'), index = False, header = None)\n",
        "\n",
        "  \n",
        "\n",
        "\n"
      ],
      "metadata": {
        "id": "cBH606IMx7Yh"
      },
      "execution_count": null,
      "outputs": []
    }
  ]
}